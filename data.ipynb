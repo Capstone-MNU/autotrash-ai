{
 "cells": [
  {
   "cell_type": "code",
   "execution_count": 3,
   "id": "a118d5ac-a9cb-4dc9-86ea-a43fe1a46994",
   "metadata": {},
   "outputs": [],
   "source": [
    "classes = [\n",
    "    'can',\n",
    "    'glass',\n",
    "    'plastic',\n",
    "    'pet_clean',\n",
    "    'pet_label'\n",
    "]"
   ]
  },
  {
   "cell_type": "code",
   "execution_count": 7,
   "id": "1bc5d719-cd27-458d-9d12-cec96f30ed1a",
   "metadata": {
    "scrolled": true,
    "tags": []
   },
   "outputs": [
    {
     "name": "stdout",
     "output_type": "stream",
     "text": [
      "/media/lifeisbug/hdd/trash/생활 폐기물 이미지/Training/[T원천]캔류_참기름캔_참기름캔\n"
     ]
    },
    {
     "ename": "NotADirectoryError",
     "evalue": "[Errno 20] Not a directory: '/media/lifeisbug/hdd/trash/생활 폐기물 이미지/Training/[T원천]캔류_참기름캔_참기름캔/22_X001_C172_1029_0.jpg'",
     "output_type": "error",
     "traceback": [
      "\u001b[0;31m---------------------------------------------------------------------------\u001b[0m",
      "\u001b[0;31mNotADirectoryError\u001b[0m                        Traceback (most recent call last)",
      "Cell \u001b[0;32mIn[7], line 10\u001b[0m\n\u001b[1;32m      8\u001b[0m     \u001b[38;5;28;01mcontinue\u001b[39;00m\n\u001b[1;32m      9\u001b[0m \u001b[38;5;28;01mfor\u001b[39;00m di \u001b[38;5;129;01min\u001b[39;00m os\u001b[38;5;241m.\u001b[39mlistdir(img_dir \u001b[38;5;241m+\u001b[39m \u001b[38;5;124m'\u001b[39m\u001b[38;5;124m/\u001b[39m\u001b[38;5;124m'\u001b[39m \u001b[38;5;241m+\u001b[39m dirs):\n\u001b[0;32m---> 10\u001b[0m     \u001b[38;5;28;01mfor\u001b[39;00m img \u001b[38;5;129;01min\u001b[39;00m \u001b[43mos\u001b[49m\u001b[38;5;241;43m.\u001b[39;49m\u001b[43mlistdir\u001b[49m\u001b[43m(\u001b[49m\u001b[43mimg_dir\u001b[49m\u001b[43m \u001b[49m\u001b[38;5;241;43m+\u001b[39;49m\u001b[43m \u001b[49m\u001b[43mdirs\u001b[49m\u001b[43m \u001b[49m\u001b[38;5;241;43m+\u001b[39;49m\u001b[43m \u001b[49m\u001b[38;5;124;43m'\u001b[39;49m\u001b[38;5;124;43m/\u001b[39;49m\u001b[38;5;124;43m'\u001b[39;49m\u001b[43m \u001b[49m\u001b[38;5;241;43m+\u001b[39;49m\u001b[43m \u001b[49m\u001b[43mdi\u001b[49m\u001b[43m)\u001b[49m:\n\u001b[1;32m     11\u001b[0m         \u001b[38;5;28mprint\u001b[39m(img_dir \u001b[38;5;241m+\u001b[39m dirs \u001b[38;5;241m+\u001b[39m \u001b[38;5;124m'\u001b[39m\u001b[38;5;124m/\u001b[39m\u001b[38;5;124m'\u001b[39m \u001b[38;5;241m+\u001b[39m di\u001b[38;5;241m+\u001b[39m\u001b[38;5;124m'\u001b[39m\u001b[38;5;124m/\u001b[39m\u001b[38;5;124m'\u001b[39m\u001b[38;5;241m+\u001b[39mimg)\n\u001b[1;32m     12\u001b[0m         shutil\u001b[38;5;241m.\u001b[39mmove(img_dir \u001b[38;5;241m+\u001b[39m dirs \u001b[38;5;241m+\u001b[39m \u001b[38;5;124m'\u001b[39m\u001b[38;5;124m/\u001b[39m\u001b[38;5;124m'\u001b[39m \u001b[38;5;241m+\u001b[39m di\u001b[38;5;241m+\u001b[39m\u001b[38;5;124m'\u001b[39m\u001b[38;5;124m/\u001b[39m\u001b[38;5;124m'\u001b[39m\u001b[38;5;241m+\u001b[39mimg, img_dir\u001b[38;5;241m+\u001b[39m dirs)\n",
      "\u001b[0;31mNotADirectoryError\u001b[0m: [Errno 20] Not a directory: '/media/lifeisbug/hdd/trash/생활 폐기물 이미지/Training/[T원천]캔류_참기름캔_참기름캔/22_X001_C172_1029_0.jpg'"
     ]
    }
   ],
   "source": [
    "import json\n",
    "import os\n",
    "import shutil\n",
    "img_dir = \"/media/lifeisbug/hdd/trash/생활 폐기물 이미지/Training/\"\n",
    "for dirs in os.listdir(img_dir):\n",
    "    print(img_dir + dirs)\n",
    "    if dirs == 'Training_라벨링데이터' or dirs == '[T원천]캔류_참기름캔_참기름캔':\n",
    "        continue\n",
    "    for di in os.listdir(img_dir + '/' + dirs):\n",
    "        for img in os.listdir(img_dir + dirs + '/' + di):\n",
    "            print(img_dir + dirs + '/' + di+'/'+img)\n",
    "            shutil.move(img_dir + dirs + '/' + di+'/'+img, img_dir+ dirs)\n",
    "                \n",
    "            if len(os.listdir(img_dir + dirs + '/' + di+'/')) == 0:\n",
    "                os.rmdir(img_dir + dirs + '/' + di+'/')"
   ]
  },
  {
   "cell_type": "code",
   "execution_count": null,
   "id": "d49bfa52-3b4d-4184-8656-dab537f07f58",
   "metadata": {},
   "outputs": [],
   "source": [
    "# 클래스 종류에 맞게 category_id 수정"
   ]
  }
 ],
 "metadata": {
  "kernelspec": {
   "display_name": "Python 3 (ipykernel)",
   "language": "python",
   "name": "python3"
  },
  "language_info": {
   "codemirror_mode": {
    "name": "ipython",
    "version": 3
   },
   "file_extension": ".py",
   "mimetype": "text/x-python",
   "name": "python",
   "nbconvert_exporter": "python",
   "pygments_lexer": "ipython3",
   "version": "3.8.16"
  }
 },
 "nbformat": 4,
 "nbformat_minor": 5
}
